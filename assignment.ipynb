{
 "cells": [
  {
   "cell_type": "markdown",
   "id": "35dcd4df-dbdd-4b00-8dcd-57758f04d383",
   "metadata": {},
   "source": [
    "Consider following code to answer further questions:"
   ]
  },
  {
   "cell_type": "code",
   "execution_count": 1,
   "id": "02472485-b6e1-4a80-92ad-ec90466f4ec1",
   "metadata": {},
   "outputs": [],
   "source": [
    "import pandas as pd\n",
    "\n",
    "course_name = ['Data Science' , 'Machine Learning' , 'Big Data' , 'Data Engineer']\n",
    "\n",
    "duration = [2,3,6,4]\n",
    "\n",
    "df = pd.DataFrame(data = {'course_name' : course_name, 'duration' : duration})\n"
   ]
  },
  {
   "cell_type": "markdown",
   "id": "9c159f84-8d95-4242-a91c-b2111ee6c1da",
   "metadata": {},
   "source": [
    "Q1. Write a code to print the data present in the second row of the dataframe,df."
   ]
  },
  {
   "cell_type": "code",
   "execution_count": 2,
   "id": "c5e2441d-a5df-4789-8768-031d7cb01366",
   "metadata": {},
   "outputs": [
    {
     "data": {
      "text/plain": [
       "course_name    Machine Learning\n",
       "duration                      3\n",
       "Name: 1, dtype: object"
      ]
     },
     "execution_count": 2,
     "metadata": {},
     "output_type": "execute_result"
    }
   ],
   "source": [
    "df.loc[1]"
   ]
  },
  {
   "cell_type": "markdown",
   "id": "e2acc6a8-70b0-49f0-b22f-b8cc0187061d",
   "metadata": {},
   "source": [
    "Q2. Write the difference between the functions loc and iloc in pandas DataFrame?"
   ]
  },
  {
   "cell_type": "markdown",
   "id": "7e9f5844-23c7-4db1-9aa4-2c9e9c74a448",
   "metadata": {},
   "source": [
    "Ans: loc() and iloc() are used in filtering the data according to some conditions. The main difference between pandas loc[] vs iloc[] is loc gets DataFrame rows & columns by labels/names and iloc[] gets by integer Index/position.\n",
    "\n",
    "loc(): DataFrame.loc[] is label-based to select rows and/or columns in pandas. It accepts single labels, multiple labels from the list, indexes by a range (between two indexes labels), and many more loc is label-based, which means that we have to specify the name of the rows and columns that we need to filter out.\n",
    "\n",
    "iloc() : DataFrame.iloc[] is a index-based to select rows and/or columns in pandas. It accepts a single index, multiple indexes from the list, indexes by a range, and many more.loc is integer index-based. So here, we have to specify rows and columns by their integer index."
   ]
  },
  {
   "cell_type": "markdown",
   "id": "d221cc69-ea40-44ac-8b8a-bca8b4d3d6c9",
   "metadata": {},
   "source": [
    "Consider the below code to answer further question:"
   ]
  },
  {
   "cell_type": "code",
   "execution_count": 3,
   "id": "1c92874b-97c6-4720-9ef9-092e87d8d77d",
   "metadata": {},
   "outputs": [],
   "source": [
    "import pandas as pd\n",
    "import numpy as np\n",
    "columns = ['column_1' , 'column_2' , 'column_3' , 'column_4' , 'column_5' , 'column_6']\n",
    "indices = [1,2,3,4,5,6]\n",
    "#creating a dataframe:\n",
    "df1 = pd.DataFrame(np.random.rand(6,6), columns = columns , index = indices)"
   ]
  },
  {
   "cell_type": "markdown",
   "id": "ff068763-64dc-48d6-82c2-9db96b32b7c4",
   "metadata": {},
   "source": [
    "Q3. Reindex the given dataframe using a variable,reindex = [3,0,1,2] and store it in the variable,new_df then find the output for both new_df.loc[2] and new_df.iloc[2].\n",
    "\n",
    "Did you observe any difference in both the outputs? If so then explain it.Consider the below code to answer further questions:"
   ]
  },
  {
   "cell_type": "code",
   "execution_count": 4,
   "id": "38a3e07e-1f2b-4523-8509-2a914961bab7",
   "metadata": {},
   "outputs": [],
   "source": [
    "new_df = df1.reindex([3,0,1,2])"
   ]
  },
  {
   "cell_type": "code",
   "execution_count": 5,
   "id": "0ad680c3-caed-4c33-ba27-2dfbe4b2fbc6",
   "metadata": {},
   "outputs": [
    {
     "data": {
      "text/plain": [
       "column_1    0.990751\n",
       "column_2    0.872878\n",
       "column_3    0.416028\n",
       "column_4    0.167302\n",
       "column_5    0.246544\n",
       "column_6    0.645947\n",
       "Name: 2, dtype: float64"
      ]
     },
     "execution_count": 5,
     "metadata": {},
     "output_type": "execute_result"
    }
   ],
   "source": [
    "new_df.loc[2]"
   ]
  },
  {
   "cell_type": "code",
   "execution_count": 6,
   "id": "0f0e2237-275b-4231-a812-1836b5bac9fd",
   "metadata": {},
   "outputs": [
    {
     "data": {
      "text/plain": [
       "column_1    0.401482\n",
       "column_2    0.574682\n",
       "column_3    0.979325\n",
       "column_4    0.108969\n",
       "column_5    0.721431\n",
       "column_6    0.068050\n",
       "Name: 1, dtype: float64"
      ]
     },
     "execution_count": 6,
     "metadata": {},
     "output_type": "execute_result"
    }
   ],
   "source": [
    "new_df.iloc[2]"
   ]
  },
  {
   "cell_type": "markdown",
   "id": "ec9f3efa-0ee5-4620-8284-eb9367f62e2f",
   "metadata": {},
   "source": [
    "The difference between above code is:\n",
    "\n",
    "new_df.loc[2] selects the row with label 2 from the DataFrame new_df. Since the DataFrame was reindexed, the label 2 corresponds to the row that was originally labeled 3 in df1. Thus, the output displays the values for that row.\n",
    "\n",
    "On the other hand, new_df.iloc[2] selects the row with index position 2 from the DataFrame new_df. Since the DataFrame was reindexed, the row at index position 2 corresponds to the row that was originally at index position 1 in df1. Thus, the output displays the values for that row."
   ]
  },
  {
   "cell_type": "markdown",
   "id": "d92027c9-4742-4ea3-9deb-c4b5a6888aea",
   "metadata": {},
   "source": [
    "Q4. Write a code to find the following statistical measurements for the above dataframe df1:\n",
    "\n",
    "1. mean of each and every column present in the dataframe.\n",
    "\n",
    "2. standard deviation of column,'column_2'"
   ]
  },
  {
   "cell_type": "code",
   "execution_count": 7,
   "id": "9a7ee0e3-34ba-4664-9b40-0eb851a77362",
   "metadata": {},
   "outputs": [
    {
     "data": {
      "text/plain": [
       "column_1    0.585547\n",
       "column_2    0.467010\n",
       "column_3    0.340780\n",
       "column_4    0.171501\n",
       "column_5    0.492467\n",
       "column_6    0.423290\n",
       "dtype: float64"
      ]
     },
     "execution_count": 7,
     "metadata": {},
     "output_type": "execute_result"
    }
   ],
   "source": [
    "#Average of all columns are:\n",
    "df1.mean()"
   ]
  },
  {
   "cell_type": "code",
   "execution_count": 8,
   "id": "5c7f2774-6e23-4f55-8b67-305037e2b7ae",
   "metadata": {},
   "outputs": [
    {
     "data": {
      "text/plain": [
       "0.2918118370959316"
      ]
     },
     "execution_count": 8,
     "metadata": {},
     "output_type": "execute_result"
    }
   ],
   "source": [
    "#standard Deviation of column_2\n",
    "df1['column_2'].std()"
   ]
  },
  {
   "cell_type": "markdown",
   "id": "eb13c451-15f0-4305-b877-fd9017c3445c",
   "metadata": {},
   "source": [
    "Q5. Replace the data present in the second row of column, ‘column_2’ by a string variable then find the mean of column, column_2. If you are getting errors in executing it then explain why.\n",
    "\n",
    "[Hint: To replace the data use df1.loc[] and equate this to string data of your choice.]"
   ]
  },
  {
   "cell_type": "code",
   "execution_count": 9,
   "id": "df965b12-3960-483b-bc92-5afec62897db",
   "metadata": {},
   "outputs": [],
   "source": [
    "df1.loc['column_2', 1] = \"milan\""
   ]
  },
  {
   "cell_type": "markdown",
   "id": "ce157cee-1cae-4e0a-aa85-3948c618c538",
   "metadata": {},
   "source": []
  }
 ],
 "metadata": {
  "kernelspec": {
   "display_name": "Python 3 (ipykernel)",
   "language": "python",
   "name": "python3"
  },
  "language_info": {
   "codemirror_mode": {
    "name": "ipython",
    "version": 3
   },
   "file_extension": ".py",
   "mimetype": "text/x-python",
   "name": "python",
   "nbconvert_exporter": "python",
   "pygments_lexer": "ipython3",
   "version": "3.10.6"
  }
 },
 "nbformat": 4,
 "nbformat_minor": 5
}
